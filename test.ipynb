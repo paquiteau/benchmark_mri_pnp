{
 "cells": [
  {
   "cell_type": "code",
   "execution_count": 2,
   "metadata": {},
   "outputs": [
    {
     "name": "stdout",
     "output_type": "stream",
     "text": [
      "Usage: benchopt run [OPTIONS] [BENCHMARK]\n",
      "Try 'benchopt run -h' for help.\n",
      "\n",
      "Error: Invalid value: The folder '.' does not contain `objective.py`.\n",
      "Make sure you provide the path to a valid benchmark.\n"
     ]
    }
   ],
   "source": [
    "!benchopt run . -s FISTA -d fastmri\n"
   ]
  }
 ],
 "metadata": {
  "kernelspec": {
   "display_name": "fastmri",
   "language": "python",
   "name": "python3"
  },
  "language_info": {
   "codemirror_mode": {
    "name": "ipython",
    "version": 3
   },
   "file_extension": ".py",
   "mimetype": "text/x-python",
   "name": "python",
   "nbconvert_exporter": "python",
   "pygments_lexer": "ipython3",
   "version": "3.10.12"
  }
 },
 "nbformat": 4,
 "nbformat_minor": 2
}
